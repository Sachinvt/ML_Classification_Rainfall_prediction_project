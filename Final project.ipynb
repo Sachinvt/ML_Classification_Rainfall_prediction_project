{
 "cells": [
  {
   "cell_type": "markdown",
   "id": "62bfffab",
   "metadata": {},
   "source": [
    "# Import Library & Load Datasets"
   ]
  },
  {
   "cell_type": "code",
   "execution_count": 130,
   "id": "bdbe6be9",
   "metadata": {},
   "outputs": [],
   "source": [
    "import pandas as pd\n",
    "from sklearn.model_selection import train_test_split\n",
    "from sklearn.preprocessing import LabelEncoder, StandardScaler\n",
    "from sklearn.linear_model import LinearRegression\n",
    "from sklearn.metrics import mean_squared_error, r2_score\n",
    "import numpy as np\n",
    "import seaborn as sns"
   ]
  },
  {
   "cell_type": "code",
   "execution_count": 184,
   "id": "8da2e3b4",
   "metadata": {},
   "outputs": [],
   "source": [
    "df = pd.read_csv(r\"C:\\Users\\thora\\OneDrive\\Documents\\Machine Learning\\Project\\ML case Study.csv\",header=0)"
   ]
  },
  {
   "cell_type": "code",
   "execution_count": 185,
   "id": "f554f1a0",
   "metadata": {},
   "outputs": [
    {
     "data": {
      "text/html": [
       "<div>\n",
       "<style scoped>\n",
       "    .dataframe tbody tr th:only-of-type {\n",
       "        vertical-align: middle;\n",
       "    }\n",
       "\n",
       "    .dataframe tbody tr th {\n",
       "        vertical-align: top;\n",
       "    }\n",
       "\n",
       "    .dataframe thead th {\n",
       "        text-align: right;\n",
       "    }\n",
       "</style>\n",
       "<table border=\"1\" class=\"dataframe\">\n",
       "  <thead>\n",
       "    <tr style=\"text-align: right;\">\n",
       "      <th></th>\n",
       "      <th>College</th>\n",
       "      <th>City</th>\n",
       "      <th>Role</th>\n",
       "      <th>Previous CTC</th>\n",
       "      <th>Previous job change</th>\n",
       "      <th>Graduation Marks</th>\n",
       "      <th>EXP (Month)</th>\n",
       "      <th>CTC</th>\n",
       "    </tr>\n",
       "  </thead>\n",
       "  <tbody>\n",
       "    <tr>\n",
       "      <th>0</th>\n",
       "      <td>SVNIT Surat</td>\n",
       "      <td>Asansol</td>\n",
       "      <td>Manager</td>\n",
       "      <td>55523</td>\n",
       "      <td>3</td>\n",
       "      <td>66</td>\n",
       "      <td>19</td>\n",
       "      <td>71406.58</td>\n",
       "    </tr>\n",
       "    <tr>\n",
       "      <th>1</th>\n",
       "      <td>NIT Bhopal</td>\n",
       "      <td>Ajmer</td>\n",
       "      <td>Executive</td>\n",
       "      <td>57081</td>\n",
       "      <td>1</td>\n",
       "      <td>84</td>\n",
       "      <td>18</td>\n",
       "      <td>68005.87</td>\n",
       "    </tr>\n",
       "    <tr>\n",
       "      <th>2</th>\n",
       "      <td>IEM, Kolkata</td>\n",
       "      <td>Rajpur Sonarpur</td>\n",
       "      <td>Executive</td>\n",
       "      <td>60347</td>\n",
       "      <td>2</td>\n",
       "      <td>52</td>\n",
       "      <td>28</td>\n",
       "      <td>76764.02</td>\n",
       "    </tr>\n",
       "    <tr>\n",
       "      <th>3</th>\n",
       "      <td>KIIT, Bhubaneswar</td>\n",
       "      <td>Ajmer</td>\n",
       "      <td>Executive</td>\n",
       "      <td>49010</td>\n",
       "      <td>2</td>\n",
       "      <td>81</td>\n",
       "      <td>33</td>\n",
       "      <td>82092.39</td>\n",
       "    </tr>\n",
       "    <tr>\n",
       "      <th>4</th>\n",
       "      <td>DTU</td>\n",
       "      <td>Durgapur</td>\n",
       "      <td>Executive</td>\n",
       "      <td>57879</td>\n",
       "      <td>4</td>\n",
       "      <td>74</td>\n",
       "      <td>32</td>\n",
       "      <td>73878.10</td>\n",
       "    </tr>\n",
       "  </tbody>\n",
       "</table>\n",
       "</div>"
      ],
      "text/plain": [
       "             College             City       Role  Previous CTC  \\\n",
       "0        SVNIT Surat          Asansol    Manager         55523   \n",
       "1         NIT Bhopal            Ajmer  Executive         57081   \n",
       "2       IEM, Kolkata  Rajpur Sonarpur  Executive         60347   \n",
       "3  KIIT, Bhubaneswar            Ajmer  Executive         49010   \n",
       "4                DTU         Durgapur  Executive         57879   \n",
       "\n",
       "   Previous job change  Graduation Marks  EXP (Month)       CTC  \n",
       "0                    3                66           19  71406.58  \n",
       "1                    1                84           18  68005.87  \n",
       "2                    2                52           28  76764.02  \n",
       "3                    2                81           33  82092.39  \n",
       "4                    4                74           32  73878.10  "
      ]
     },
     "execution_count": 185,
     "metadata": {},
     "output_type": "execute_result"
    }
   ],
   "source": [
    "df.head()"
   ]
  },
  {
   "cell_type": "code",
   "execution_count": 186,
   "id": "e03e1433",
   "metadata": {},
   "outputs": [],
   "source": [
    "colleges = pd.read_csv(r\"C:\\Users\\thora\\OneDrive\\Documents\\Machine Learning\\Project\\Colleges.csv\",header=0)"
   ]
  },
  {
   "cell_type": "code",
   "execution_count": 187,
   "id": "a7c9f976",
   "metadata": {},
   "outputs": [
    {
     "data": {
      "text/html": [
       "<div>\n",
       "<style scoped>\n",
       "    .dataframe tbody tr th:only-of-type {\n",
       "        vertical-align: middle;\n",
       "    }\n",
       "\n",
       "    .dataframe tbody tr th {\n",
       "        vertical-align: top;\n",
       "    }\n",
       "\n",
       "    .dataframe thead th {\n",
       "        text-align: right;\n",
       "    }\n",
       "</style>\n",
       "<table border=\"1\" class=\"dataframe\">\n",
       "  <thead>\n",
       "    <tr style=\"text-align: right;\">\n",
       "      <th></th>\n",
       "      <th>Tier 1</th>\n",
       "      <th>Tier 2</th>\n",
       "      <th>Tier 3</th>\n",
       "    </tr>\n",
       "  </thead>\n",
       "  <tbody>\n",
       "    <tr>\n",
       "      <th>0</th>\n",
       "      <td>IIT Bombay</td>\n",
       "      <td>IIIT Bangalore</td>\n",
       "      <td>Ramaiah Institute of Technology, Bengaluru</td>\n",
       "    </tr>\n",
       "    <tr>\n",
       "      <th>1</th>\n",
       "      <td>IIT Delhi</td>\n",
       "      <td>IIIT Delhi</td>\n",
       "      <td>TIET/Thapar University</td>\n",
       "    </tr>\n",
       "    <tr>\n",
       "      <th>2</th>\n",
       "      <td>IIT Kharagpur</td>\n",
       "      <td>IGDTUW</td>\n",
       "      <td>Manipal Main Campus</td>\n",
       "    </tr>\n",
       "    <tr>\n",
       "      <th>3</th>\n",
       "      <td>IIT Madras</td>\n",
       "      <td>NIT Calicut</td>\n",
       "      <td>VIT Vellore</td>\n",
       "    </tr>\n",
       "    <tr>\n",
       "      <th>4</th>\n",
       "      <td>IIT Kanpur</td>\n",
       "      <td>IIITM Gwalior</td>\n",
       "      <td>SRM Main Campus</td>\n",
       "    </tr>\n",
       "  </tbody>\n",
       "</table>\n",
       "</div>"
      ],
      "text/plain": [
       "          Tier 1          Tier 2                                      Tier 3\n",
       "0     IIT Bombay  IIIT Bangalore  Ramaiah Institute of Technology, Bengaluru\n",
       "1      IIT Delhi      IIIT Delhi                      TIET/Thapar University\n",
       "2  IIT Kharagpur          IGDTUW                         Manipal Main Campus\n",
       "3     IIT Madras     NIT Calicut                                 VIT Vellore\n",
       "4     IIT Kanpur   IIITM Gwalior                             SRM Main Campus"
      ]
     },
     "execution_count": 187,
     "metadata": {},
     "output_type": "execute_result"
    }
   ],
   "source": [
    "colleges.head()"
   ]
  },
  {
   "cell_type": "code",
   "execution_count": 188,
   "id": "874d66b8",
   "metadata": {},
   "outputs": [],
   "source": [
    "cities = pd.read_csv(r\"C:\\Users\\thora\\OneDrive\\Documents\\Machine Learning\\Project\\cities.csv\",header=0)"
   ]
  },
  {
   "cell_type": "code",
   "execution_count": 189,
   "id": "aeb7459f",
   "metadata": {},
   "outputs": [
    {
     "data": {
      "text/html": [
       "<div>\n",
       "<style scoped>\n",
       "    .dataframe tbody tr th:only-of-type {\n",
       "        vertical-align: middle;\n",
       "    }\n",
       "\n",
       "    .dataframe tbody tr th {\n",
       "        vertical-align: top;\n",
       "    }\n",
       "\n",
       "    .dataframe thead th {\n",
       "        text-align: right;\n",
       "    }\n",
       "</style>\n",
       "<table border=\"1\" class=\"dataframe\">\n",
       "  <thead>\n",
       "    <tr style=\"text-align: right;\">\n",
       "      <th></th>\n",
       "      <th>Metrio City</th>\n",
       "      <th>non-metro cities</th>\n",
       "    </tr>\n",
       "  </thead>\n",
       "  <tbody>\n",
       "    <tr>\n",
       "      <th>0</th>\n",
       "      <td>Mumbai</td>\n",
       "      <td>Dehradun</td>\n",
       "    </tr>\n",
       "    <tr>\n",
       "      <th>1</th>\n",
       "      <td>Delhi</td>\n",
       "      <td>Durgapur</td>\n",
       "    </tr>\n",
       "    <tr>\n",
       "      <th>2</th>\n",
       "      <td>Kolkata</td>\n",
       "      <td>Asansol</td>\n",
       "    </tr>\n",
       "    <tr>\n",
       "      <th>3</th>\n",
       "      <td>Chennai</td>\n",
       "      <td>Rourkela</td>\n",
       "    </tr>\n",
       "    <tr>\n",
       "      <th>4</th>\n",
       "      <td>Bangalore</td>\n",
       "      <td>Kozhikode</td>\n",
       "    </tr>\n",
       "  </tbody>\n",
       "</table>\n",
       "</div>"
      ],
      "text/plain": [
       "  Metrio City non-metro cities\n",
       "0      Mumbai         Dehradun\n",
       "1       Delhi         Durgapur\n",
       "2     Kolkata          Asansol\n",
       "3     Chennai         Rourkela\n",
       "4   Bangalore        Kozhikode"
      ]
     },
     "execution_count": 189,
     "metadata": {},
     "output_type": "execute_result"
    }
   ],
   "source": [
    "cities.head()"
   ]
  },
  {
   "cell_type": "markdown",
   "id": "d2990db2",
   "metadata": {},
   "source": [
    "# Convert Categorical data to Numeric Values"
   ]
  },
  {
   "cell_type": "code",
   "execution_count": 190,
   "id": "b3f714ee",
   "metadata": {},
   "outputs": [],
   "source": [
    "Tier1 = colleges[\"Tier 1\"].tolist()\n",
    "Tier2 = colleges[\"Tier 2\"].tolist()\n",
    "Tier3 = colleges[\"Tier 3\"].tolist()"
   ]
  },
  {
   "cell_type": "code",
   "execution_count": 191,
   "id": "c63424a8",
   "metadata": {},
   "outputs": [
    {
     "data": {
      "text/plain": [
       "['IIIT Bangalore',\n",
       " 'IIIT Delhi',\n",
       " 'IGDTUW',\n",
       " 'NIT Calicut',\n",
       " 'IIITM Gwalior',\n",
       " 'IIIT Lucknow',\n",
       " 'MNNIT Allahabad',\n",
       " 'Punjab Engineering College',\n",
       " 'DAIICT',\n",
       " 'MNIT Jaipur',\n",
       " 'NIT Durgapur',\n",
       " 'VNIT Nagpur',\n",
       " 'LNMIIT',\n",
       " 'BIT Mesra',\n",
       " 'SVNIT Surat',\n",
       " 'NIT Jalandhar',\n",
       " 'NIT Jamshedpur',\n",
       " 'NIT Kurukshetra',\n",
       " 'NIT Patna',\n",
       " 'NIT Raipur',\n",
       " 'NIT Bhopal',\n",
       " 'NIT Rourkela',\n",
       " 'NIT Silchar',\n",
       " 'NIT Sikkim',\n",
       " 'IIIT Jabalpur',\n",
       " 'Jalpaiguri Government Engineering College',\n",
       " 'IIEST/BESU Shibpur',\n",
       " 'R.V. College of Engineering']"
      ]
     },
     "execution_count": 191,
     "metadata": {},
     "output_type": "execute_result"
    }
   ],
   "source": [
    "Tier2"
   ]
  },
  {
   "cell_type": "code",
   "execution_count": 192,
   "id": "b28b08f9",
   "metadata": {},
   "outputs": [],
   "source": [
    "for item in df.College:\n",
    "    if item in Tier1:\n",
    "        df[\"College\"].replace(item,1,inplace=True)\n",
    "    elif item in Tier2:\n",
    "        df[\"College\"].replace(item,2,inplace=True)\n",
    "    elif item in Tier3:\n",
    "        df[\"College\"].replace(item,3,inplace=True)"
   ]
  },
  {
   "cell_type": "code",
   "execution_count": 193,
   "id": "fe1fc620",
   "metadata": {},
   "outputs": [
    {
     "data": {
      "text/html": [
       "<div>\n",
       "<style scoped>\n",
       "    .dataframe tbody tr th:only-of-type {\n",
       "        vertical-align: middle;\n",
       "    }\n",
       "\n",
       "    .dataframe tbody tr th {\n",
       "        vertical-align: top;\n",
       "    }\n",
       "\n",
       "    .dataframe thead th {\n",
       "        text-align: right;\n",
       "    }\n",
       "</style>\n",
       "<table border=\"1\" class=\"dataframe\">\n",
       "  <thead>\n",
       "    <tr style=\"text-align: right;\">\n",
       "      <th></th>\n",
       "      <th>College</th>\n",
       "      <th>City</th>\n",
       "      <th>Role</th>\n",
       "      <th>Previous CTC</th>\n",
       "      <th>Previous job change</th>\n",
       "      <th>Graduation Marks</th>\n",
       "      <th>EXP (Month)</th>\n",
       "      <th>CTC</th>\n",
       "    </tr>\n",
       "  </thead>\n",
       "  <tbody>\n",
       "    <tr>\n",
       "      <th>0</th>\n",
       "      <td>2</td>\n",
       "      <td>Asansol</td>\n",
       "      <td>Manager</td>\n",
       "      <td>55523</td>\n",
       "      <td>3</td>\n",
       "      <td>66</td>\n",
       "      <td>19</td>\n",
       "      <td>71406.58</td>\n",
       "    </tr>\n",
       "    <tr>\n",
       "      <th>1</th>\n",
       "      <td>2</td>\n",
       "      <td>Ajmer</td>\n",
       "      <td>Executive</td>\n",
       "      <td>57081</td>\n",
       "      <td>1</td>\n",
       "      <td>84</td>\n",
       "      <td>18</td>\n",
       "      <td>68005.87</td>\n",
       "    </tr>\n",
       "    <tr>\n",
       "      <th>2</th>\n",
       "      <td>3</td>\n",
       "      <td>Rajpur Sonarpur</td>\n",
       "      <td>Executive</td>\n",
       "      <td>60347</td>\n",
       "      <td>2</td>\n",
       "      <td>52</td>\n",
       "      <td>28</td>\n",
       "      <td>76764.02</td>\n",
       "    </tr>\n",
       "    <tr>\n",
       "      <th>3</th>\n",
       "      <td>3</td>\n",
       "      <td>Ajmer</td>\n",
       "      <td>Executive</td>\n",
       "      <td>49010</td>\n",
       "      <td>2</td>\n",
       "      <td>81</td>\n",
       "      <td>33</td>\n",
       "      <td>82092.39</td>\n",
       "    </tr>\n",
       "    <tr>\n",
       "      <th>4</th>\n",
       "      <td>1</td>\n",
       "      <td>Durgapur</td>\n",
       "      <td>Executive</td>\n",
       "      <td>57879</td>\n",
       "      <td>4</td>\n",
       "      <td>74</td>\n",
       "      <td>32</td>\n",
       "      <td>73878.10</td>\n",
       "    </tr>\n",
       "  </tbody>\n",
       "</table>\n",
       "</div>"
      ],
      "text/plain": [
       "   College             City       Role  Previous CTC  Previous job change  \\\n",
       "0        2          Asansol    Manager         55523                    3   \n",
       "1        2            Ajmer  Executive         57081                    1   \n",
       "2        3  Rajpur Sonarpur  Executive         60347                    2   \n",
       "3        3            Ajmer  Executive         49010                    2   \n",
       "4        1         Durgapur  Executive         57879                    4   \n",
       "\n",
       "   Graduation Marks  EXP (Month)       CTC  \n",
       "0                66           19  71406.58  \n",
       "1                84           18  68005.87  \n",
       "2                52           28  76764.02  \n",
       "3                81           33  82092.39  \n",
       "4                74           32  73878.10  "
      ]
     },
     "execution_count": 193,
     "metadata": {},
     "output_type": "execute_result"
    }
   ],
   "source": [
    "df.head()"
   ]
  },
  {
   "cell_type": "code",
   "execution_count": 194,
   "id": "63848fef",
   "metadata": {},
   "outputs": [
    {
     "name": "stdout",
     "output_type": "stream",
     "text": [
      "<class 'pandas.core.frame.DataFrame'>\n",
      "RangeIndex: 1589 entries, 0 to 1588\n",
      "Data columns (total 8 columns):\n",
      " #   Column               Non-Null Count  Dtype  \n",
      "---  ------               --------------  -----  \n",
      " 0   College              1589 non-null   int64  \n",
      " 1   City                 1589 non-null   object \n",
      " 2   Role                 1589 non-null   object \n",
      " 3   Previous CTC         1589 non-null   int64  \n",
      " 4   Previous job change  1589 non-null   int64  \n",
      " 5   Graduation Marks     1589 non-null   int64  \n",
      " 6   EXP (Month)          1589 non-null   int64  \n",
      " 7   CTC                  1589 non-null   float64\n",
      "dtypes: float64(1), int64(5), object(2)\n",
      "memory usage: 99.4+ KB\n"
     ]
    }
   ],
   "source": [
    "df.info()"
   ]
  },
  {
   "cell_type": "code",
   "execution_count": 195,
   "id": "a7af5fea",
   "metadata": {},
   "outputs": [],
   "source": [
    "metro_city = cities[\"Metrio City\"].tolist()\n",
    "non_metro_city = cities[\"non-metro cities\"].tolist()"
   ]
  },
  {
   "cell_type": "code",
   "execution_count": 196,
   "id": "77eb4312",
   "metadata": {},
   "outputs": [],
   "source": [
    "for item in df.City:\n",
    "    if item in metro_city:\n",
    "        df[\"City\"].replace(item,1,inplace=True)\n",
    "    elif item in non_metro_city:\n",
    "        df[\"City\"].replace(item,0,inplace=True)"
   ]
  },
  {
   "cell_type": "code",
   "execution_count": 197,
   "id": "1c070a42",
   "metadata": {},
   "outputs": [
    {
     "data": {
      "text/html": [
       "<div>\n",
       "<style scoped>\n",
       "    .dataframe tbody tr th:only-of-type {\n",
       "        vertical-align: middle;\n",
       "    }\n",
       "\n",
       "    .dataframe tbody tr th {\n",
       "        vertical-align: top;\n",
       "    }\n",
       "\n",
       "    .dataframe thead th {\n",
       "        text-align: right;\n",
       "    }\n",
       "</style>\n",
       "<table border=\"1\" class=\"dataframe\">\n",
       "  <thead>\n",
       "    <tr style=\"text-align: right;\">\n",
       "      <th></th>\n",
       "      <th>College</th>\n",
       "      <th>City</th>\n",
       "      <th>Role</th>\n",
       "      <th>Previous CTC</th>\n",
       "      <th>Previous job change</th>\n",
       "      <th>Graduation Marks</th>\n",
       "      <th>EXP (Month)</th>\n",
       "      <th>CTC</th>\n",
       "    </tr>\n",
       "  </thead>\n",
       "  <tbody>\n",
       "    <tr>\n",
       "      <th>0</th>\n",
       "      <td>2</td>\n",
       "      <td>0</td>\n",
       "      <td>Manager</td>\n",
       "      <td>55523</td>\n",
       "      <td>3</td>\n",
       "      <td>66</td>\n",
       "      <td>19</td>\n",
       "      <td>71406.58</td>\n",
       "    </tr>\n",
       "    <tr>\n",
       "      <th>1</th>\n",
       "      <td>2</td>\n",
       "      <td>0</td>\n",
       "      <td>Executive</td>\n",
       "      <td>57081</td>\n",
       "      <td>1</td>\n",
       "      <td>84</td>\n",
       "      <td>18</td>\n",
       "      <td>68005.87</td>\n",
       "    </tr>\n",
       "    <tr>\n",
       "      <th>2</th>\n",
       "      <td>3</td>\n",
       "      <td>0</td>\n",
       "      <td>Executive</td>\n",
       "      <td>60347</td>\n",
       "      <td>2</td>\n",
       "      <td>52</td>\n",
       "      <td>28</td>\n",
       "      <td>76764.02</td>\n",
       "    </tr>\n",
       "    <tr>\n",
       "      <th>3</th>\n",
       "      <td>3</td>\n",
       "      <td>0</td>\n",
       "      <td>Executive</td>\n",
       "      <td>49010</td>\n",
       "      <td>2</td>\n",
       "      <td>81</td>\n",
       "      <td>33</td>\n",
       "      <td>82092.39</td>\n",
       "    </tr>\n",
       "    <tr>\n",
       "      <th>4</th>\n",
       "      <td>1</td>\n",
       "      <td>0</td>\n",
       "      <td>Executive</td>\n",
       "      <td>57879</td>\n",
       "      <td>4</td>\n",
       "      <td>74</td>\n",
       "      <td>32</td>\n",
       "      <td>73878.10</td>\n",
       "    </tr>\n",
       "  </tbody>\n",
       "</table>\n",
       "</div>"
      ],
      "text/plain": [
       "   College  City       Role  Previous CTC  Previous job change  \\\n",
       "0        2     0    Manager         55523                    3   \n",
       "1        2     0  Executive         57081                    1   \n",
       "2        3     0  Executive         60347                    2   \n",
       "3        3     0  Executive         49010                    2   \n",
       "4        1     0  Executive         57879                    4   \n",
       "\n",
       "   Graduation Marks  EXP (Month)       CTC  \n",
       "0                66           19  71406.58  \n",
       "1                84           18  68005.87  \n",
       "2                52           28  76764.02  \n",
       "3                81           33  82092.39  \n",
       "4                74           32  73878.10  "
      ]
     },
     "execution_count": 197,
     "metadata": {},
     "output_type": "execute_result"
    }
   ],
   "source": [
    "df.head()"
   ]
  },
  {
   "cell_type": "code",
   "execution_count": 198,
   "id": "79a22256",
   "metadata": {},
   "outputs": [
    {
     "name": "stdout",
     "output_type": "stream",
     "text": [
      "<class 'pandas.core.frame.DataFrame'>\n",
      "RangeIndex: 1589 entries, 0 to 1588\n",
      "Data columns (total 8 columns):\n",
      " #   Column               Non-Null Count  Dtype  \n",
      "---  ------               --------------  -----  \n",
      " 0   College              1589 non-null   int64  \n",
      " 1   City                 1589 non-null   int64  \n",
      " 2   Role                 1589 non-null   object \n",
      " 3   Previous CTC         1589 non-null   int64  \n",
      " 4   Previous job change  1589 non-null   int64  \n",
      " 5   Graduation Marks     1589 non-null   int64  \n",
      " 6   EXP (Month)          1589 non-null   int64  \n",
      " 7   CTC                  1589 non-null   float64\n",
      "dtypes: float64(1), int64(6), object(1)\n",
      "memory usage: 99.4+ KB\n"
     ]
    }
   ],
   "source": [
    "df.info()"
   ]
  },
  {
   "cell_type": "code",
   "execution_count": 199,
   "id": "a83f31eb",
   "metadata": {},
   "outputs": [],
   "source": [
    "df = pd.get_dummies(df, columns=['Role'], drop_first=True)"
   ]
  },
  {
   "cell_type": "code",
   "execution_count": 200,
   "id": "34470eda",
   "metadata": {},
   "outputs": [
    {
     "data": {
      "text/html": [
       "<div>\n",
       "<style scoped>\n",
       "    .dataframe tbody tr th:only-of-type {\n",
       "        vertical-align: middle;\n",
       "    }\n",
       "\n",
       "    .dataframe tbody tr th {\n",
       "        vertical-align: top;\n",
       "    }\n",
       "\n",
       "    .dataframe thead th {\n",
       "        text-align: right;\n",
       "    }\n",
       "</style>\n",
       "<table border=\"1\" class=\"dataframe\">\n",
       "  <thead>\n",
       "    <tr style=\"text-align: right;\">\n",
       "      <th></th>\n",
       "      <th>College</th>\n",
       "      <th>City</th>\n",
       "      <th>Previous CTC</th>\n",
       "      <th>Previous job change</th>\n",
       "      <th>Graduation Marks</th>\n",
       "      <th>EXP (Month)</th>\n",
       "      <th>CTC</th>\n",
       "      <th>Role_Manager</th>\n",
       "    </tr>\n",
       "  </thead>\n",
       "  <tbody>\n",
       "    <tr>\n",
       "      <th>0</th>\n",
       "      <td>2</td>\n",
       "      <td>0</td>\n",
       "      <td>55523</td>\n",
       "      <td>3</td>\n",
       "      <td>66</td>\n",
       "      <td>19</td>\n",
       "      <td>71406.58</td>\n",
       "      <td>1</td>\n",
       "    </tr>\n",
       "    <tr>\n",
       "      <th>1</th>\n",
       "      <td>2</td>\n",
       "      <td>0</td>\n",
       "      <td>57081</td>\n",
       "      <td>1</td>\n",
       "      <td>84</td>\n",
       "      <td>18</td>\n",
       "      <td>68005.87</td>\n",
       "      <td>0</td>\n",
       "    </tr>\n",
       "    <tr>\n",
       "      <th>2</th>\n",
       "      <td>3</td>\n",
       "      <td>0</td>\n",
       "      <td>60347</td>\n",
       "      <td>2</td>\n",
       "      <td>52</td>\n",
       "      <td>28</td>\n",
       "      <td>76764.02</td>\n",
       "      <td>0</td>\n",
       "    </tr>\n",
       "    <tr>\n",
       "      <th>3</th>\n",
       "      <td>3</td>\n",
       "      <td>0</td>\n",
       "      <td>49010</td>\n",
       "      <td>2</td>\n",
       "      <td>81</td>\n",
       "      <td>33</td>\n",
       "      <td>82092.39</td>\n",
       "      <td>0</td>\n",
       "    </tr>\n",
       "    <tr>\n",
       "      <th>4</th>\n",
       "      <td>1</td>\n",
       "      <td>0</td>\n",
       "      <td>57879</td>\n",
       "      <td>4</td>\n",
       "      <td>74</td>\n",
       "      <td>32</td>\n",
       "      <td>73878.10</td>\n",
       "      <td>0</td>\n",
       "    </tr>\n",
       "  </tbody>\n",
       "</table>\n",
       "</div>"
      ],
      "text/plain": [
       "   College  City  Previous CTC  Previous job change  Graduation Marks  \\\n",
       "0        2     0         55523                    3                66   \n",
       "1        2     0         57081                    1                84   \n",
       "2        3     0         60347                    2                52   \n",
       "3        3     0         49010                    2                81   \n",
       "4        1     0         57879                    4                74   \n",
       "\n",
       "   EXP (Month)       CTC  Role_Manager  \n",
       "0           19  71406.58             1  \n",
       "1           18  68005.87             0  \n",
       "2           28  76764.02             0  \n",
       "3           33  82092.39             0  \n",
       "4           32  73878.10             0  "
      ]
     },
     "execution_count": 200,
     "metadata": {},
     "output_type": "execute_result"
    }
   ],
   "source": [
    "df.head()"
   ]
  },
  {
   "cell_type": "code",
   "execution_count": 201,
   "id": "823ebca2",
   "metadata": {},
   "outputs": [],
   "source": [
    "# Step 2: Feature Scaling\n",
    "scaler = StandardScaler()\n",
    "df[['Previous CTC', 'Graduation Marks', 'EXP (Month)','Previous job change']] = scaler.fit_transform(df[['Previous CTC', 'Graduation Marks','EXP (Month)','Previous job change']])"
   ]
  },
  {
   "cell_type": "code",
   "execution_count": 294,
   "id": "a4168e89",
   "metadata": {},
   "outputs": [
    {
     "data": {
      "text/html": [
       "<div>\n",
       "<style scoped>\n",
       "    .dataframe tbody tr th:only-of-type {\n",
       "        vertical-align: middle;\n",
       "    }\n",
       "\n",
       "    .dataframe tbody tr th {\n",
       "        vertical-align: top;\n",
       "    }\n",
       "\n",
       "    .dataframe thead th {\n",
       "        text-align: right;\n",
       "    }\n",
       "</style>\n",
       "<table border=\"1\" class=\"dataframe\">\n",
       "  <thead>\n",
       "    <tr style=\"text-align: right;\">\n",
       "      <th></th>\n",
       "      <th>College</th>\n",
       "      <th>City</th>\n",
       "      <th>Previous CTC</th>\n",
       "      <th>Previous job change</th>\n",
       "      <th>Graduation Marks</th>\n",
       "      <th>EXP (Month)</th>\n",
       "      <th>CTC</th>\n",
       "      <th>Role_Manager</th>\n",
       "    </tr>\n",
       "  </thead>\n",
       "  <tbody>\n",
       "    <tr>\n",
       "      <th>College</th>\n",
       "      <td>1.000000</td>\n",
       "      <td>-0.014946</td>\n",
       "      <td>0.042154</td>\n",
       "      <td>-0.055060</td>\n",
       "      <td>0.003539</td>\n",
       "      <td>0.011752</td>\n",
       "      <td>-0.025930</td>\n",
       "      <td>-0.014749</td>\n",
       "    </tr>\n",
       "    <tr>\n",
       "      <th>City</th>\n",
       "      <td>-0.014946</td>\n",
       "      <td>1.000000</td>\n",
       "      <td>0.003851</td>\n",
       "      <td>0.051670</td>\n",
       "      <td>-0.018616</td>\n",
       "      <td>-0.023613</td>\n",
       "      <td>-0.026940</td>\n",
       "      <td>-0.048671</td>\n",
       "    </tr>\n",
       "    <tr>\n",
       "      <th>Previous CTC</th>\n",
       "      <td>0.042154</td>\n",
       "      <td>0.003851</td>\n",
       "      <td>1.000000</td>\n",
       "      <td>0.006280</td>\n",
       "      <td>-0.032854</td>\n",
       "      <td>0.118746</td>\n",
       "      <td>0.246917</td>\n",
       "      <td>0.012643</td>\n",
       "    </tr>\n",
       "    <tr>\n",
       "      <th>Previous job change</th>\n",
       "      <td>-0.055060</td>\n",
       "      <td>0.051670</td>\n",
       "      <td>0.006280</td>\n",
       "      <td>1.000000</td>\n",
       "      <td>0.019267</td>\n",
       "      <td>0.023488</td>\n",
       "      <td>0.009485</td>\n",
       "      <td>-0.017150</td>\n",
       "    </tr>\n",
       "    <tr>\n",
       "      <th>Graduation Marks</th>\n",
       "      <td>0.003539</td>\n",
       "      <td>-0.018616</td>\n",
       "      <td>-0.032854</td>\n",
       "      <td>0.019267</td>\n",
       "      <td>1.000000</td>\n",
       "      <td>-0.057061</td>\n",
       "      <td>-0.004665</td>\n",
       "      <td>0.017858</td>\n",
       "    </tr>\n",
       "    <tr>\n",
       "      <th>EXP (Month)</th>\n",
       "      <td>0.011752</td>\n",
       "      <td>-0.023613</td>\n",
       "      <td>0.118746</td>\n",
       "      <td>0.023488</td>\n",
       "      <td>-0.057061</td>\n",
       "      <td>1.000000</td>\n",
       "      <td>0.310451</td>\n",
       "      <td>-0.026751</td>\n",
       "    </tr>\n",
       "    <tr>\n",
       "      <th>CTC</th>\n",
       "      <td>-0.025930</td>\n",
       "      <td>-0.026940</td>\n",
       "      <td>0.246917</td>\n",
       "      <td>0.009485</td>\n",
       "      <td>-0.004665</td>\n",
       "      <td>0.310451</td>\n",
       "      <td>1.000000</td>\n",
       "      <td>0.611024</td>\n",
       "    </tr>\n",
       "    <tr>\n",
       "      <th>Role_Manager</th>\n",
       "      <td>-0.014749</td>\n",
       "      <td>-0.048671</td>\n",
       "      <td>0.012643</td>\n",
       "      <td>-0.017150</td>\n",
       "      <td>0.017858</td>\n",
       "      <td>-0.026751</td>\n",
       "      <td>0.611024</td>\n",
       "      <td>1.000000</td>\n",
       "    </tr>\n",
       "  </tbody>\n",
       "</table>\n",
       "</div>"
      ],
      "text/plain": [
       "                      College      City  Previous CTC  Previous job change  \\\n",
       "College              1.000000 -0.014946      0.042154            -0.055060   \n",
       "City                -0.014946  1.000000      0.003851             0.051670   \n",
       "Previous CTC         0.042154  0.003851      1.000000             0.006280   \n",
       "Previous job change -0.055060  0.051670      0.006280             1.000000   \n",
       "Graduation Marks     0.003539 -0.018616     -0.032854             0.019267   \n",
       "EXP (Month)          0.011752 -0.023613      0.118746             0.023488   \n",
       "CTC                 -0.025930 -0.026940      0.246917             0.009485   \n",
       "Role_Manager        -0.014749 -0.048671      0.012643            -0.017150   \n",
       "\n",
       "                     Graduation Marks  EXP (Month)       CTC  Role_Manager  \n",
       "College                      0.003539     0.011752 -0.025930     -0.014749  \n",
       "City                        -0.018616    -0.023613 -0.026940     -0.048671  \n",
       "Previous CTC                -0.032854     0.118746  0.246917      0.012643  \n",
       "Previous job change          0.019267     0.023488  0.009485     -0.017150  \n",
       "Graduation Marks             1.000000    -0.057061 -0.004665      0.017858  \n",
       "EXP (Month)                 -0.057061     1.000000  0.310451     -0.026751  \n",
       "CTC                         -0.004665     0.310451  1.000000      0.611024  \n",
       "Role_Manager                 0.017858    -0.026751  0.611024      1.000000  "
      ]
     },
     "execution_count": 294,
     "metadata": {},
     "output_type": "execute_result"
    }
   ],
   "source": [
    "df.corr()"
   ]
  },
  {
   "cell_type": "code",
   "execution_count": 203,
   "id": "6915fb67",
   "metadata": {},
   "outputs": [
    {
     "data": {
      "text/html": [
       "<div>\n",
       "<style scoped>\n",
       "    .dataframe tbody tr th:only-of-type {\n",
       "        vertical-align: middle;\n",
       "    }\n",
       "\n",
       "    .dataframe tbody tr th {\n",
       "        vertical-align: top;\n",
       "    }\n",
       "\n",
       "    .dataframe thead th {\n",
       "        text-align: right;\n",
       "    }\n",
       "</style>\n",
       "<table border=\"1\" class=\"dataframe\">\n",
       "  <thead>\n",
       "    <tr style=\"text-align: right;\">\n",
       "      <th></th>\n",
       "      <th>College</th>\n",
       "      <th>City</th>\n",
       "      <th>Previous CTC</th>\n",
       "      <th>Previous job change</th>\n",
       "      <th>Graduation Marks</th>\n",
       "      <th>EXP (Month)</th>\n",
       "      <th>CTC</th>\n",
       "      <th>Role_Manager</th>\n",
       "    </tr>\n",
       "  </thead>\n",
       "  <tbody>\n",
       "    <tr>\n",
       "      <th>count</th>\n",
       "      <td>1589.000000</td>\n",
       "      <td>1589.000000</td>\n",
       "      <td>1.589000e+03</td>\n",
       "      <td>1.589000e+03</td>\n",
       "      <td>1.589000e+03</td>\n",
       "      <td>1.589000e+03</td>\n",
       "      <td>1589.000000</td>\n",
       "      <td>1589.000000</td>\n",
       "    </tr>\n",
       "    <tr>\n",
       "      <th>mean</th>\n",
       "      <td>1.975456</td>\n",
       "      <td>0.514160</td>\n",
       "      <td>5.410678e-16</td>\n",
       "      <td>-1.028476e-16</td>\n",
       "      <td>-1.358259e-16</td>\n",
       "      <td>-8.048942e-17</td>\n",
       "      <td>75353.278798</td>\n",
       "      <td>0.206419</td>\n",
       "    </tr>\n",
       "    <tr>\n",
       "      <th>std</th>\n",
       "      <td>0.838330</td>\n",
       "      <td>0.499957</td>\n",
       "      <td>1.000315e+00</td>\n",
       "      <td>1.000315e+00</td>\n",
       "      <td>1.000315e+00</td>\n",
       "      <td>1.000315e+00</td>\n",
       "      <td>12587.288237</td>\n",
       "      <td>0.404862</td>\n",
       "    </tr>\n",
       "    <tr>\n",
       "      <th>min</th>\n",
       "      <td>1.000000</td>\n",
       "      <td>0.000000</td>\n",
       "      <td>-2.784925e+00</td>\n",
       "      <td>-1.360523e+00</td>\n",
       "      <td>-1.664737e+00</td>\n",
       "      <td>-1.492061e+00</td>\n",
       "      <td>53020.320000</td>\n",
       "      <td>0.000000</td>\n",
       "    </tr>\n",
       "    <tr>\n",
       "      <th>25%</th>\n",
       "      <td>1.000000</td>\n",
       "      <td>0.000000</td>\n",
       "      <td>-7.515949e-01</td>\n",
       "      <td>-4.704978e-01</td>\n",
       "      <td>-9.279871e-01</td>\n",
       "      <td>-9.248639e-01</td>\n",
       "      <td>66902.350000</td>\n",
       "      <td>0.000000</td>\n",
       "    </tr>\n",
       "    <tr>\n",
       "      <th>50%</th>\n",
       "      <td>2.000000</td>\n",
       "      <td>1.000000</td>\n",
       "      <td>-3.418751e-02</td>\n",
       "      <td>4.195272e-01</td>\n",
       "      <td>9.694633e-03</td>\n",
       "      <td>-3.167953e-03</td>\n",
       "      <td>73028.670000</td>\n",
       "      <td>0.000000</td>\n",
       "    </tr>\n",
       "    <tr>\n",
       "      <th>75%</th>\n",
       "      <td>3.000000</td>\n",
       "      <td>1.000000</td>\n",
       "      <td>6.899836e-01</td>\n",
       "      <td>1.309552e+00</td>\n",
       "      <td>8.803991e-01</td>\n",
       "      <td>8.476283e-01</td>\n",
       "      <td>80588.670000</td>\n",
       "      <td>0.000000</td>\n",
       "    </tr>\n",
       "    <tr>\n",
       "      <th>max</th>\n",
       "      <td>3.000000</td>\n",
       "      <td>1.000000</td>\n",
       "      <td>3.365719e+00</td>\n",
       "      <td>1.309552e+00</td>\n",
       "      <td>1.684126e+00</td>\n",
       "      <td>1.769324e+00</td>\n",
       "      <td>123416.990000</td>\n",
       "      <td>1.000000</td>\n",
       "    </tr>\n",
       "  </tbody>\n",
       "</table>\n",
       "</div>"
      ],
      "text/plain": [
       "           College         City  Previous CTC  Previous job change  \\\n",
       "count  1589.000000  1589.000000  1.589000e+03         1.589000e+03   \n",
       "mean      1.975456     0.514160  5.410678e-16        -1.028476e-16   \n",
       "std       0.838330     0.499957  1.000315e+00         1.000315e+00   \n",
       "min       1.000000     0.000000 -2.784925e+00        -1.360523e+00   \n",
       "25%       1.000000     0.000000 -7.515949e-01        -4.704978e-01   \n",
       "50%       2.000000     1.000000 -3.418751e-02         4.195272e-01   \n",
       "75%       3.000000     1.000000  6.899836e-01         1.309552e+00   \n",
       "max       3.000000     1.000000  3.365719e+00         1.309552e+00   \n",
       "\n",
       "       Graduation Marks   EXP (Month)            CTC  Role_Manager  \n",
       "count      1.589000e+03  1.589000e+03    1589.000000   1589.000000  \n",
       "mean      -1.358259e-16 -8.048942e-17   75353.278798      0.206419  \n",
       "std        1.000315e+00  1.000315e+00   12587.288237      0.404862  \n",
       "min       -1.664737e+00 -1.492061e+00   53020.320000      0.000000  \n",
       "25%       -9.279871e-01 -9.248639e-01   66902.350000      0.000000  \n",
       "50%        9.694633e-03 -3.167953e-03   73028.670000      0.000000  \n",
       "75%        8.803991e-01  8.476283e-01   80588.670000      0.000000  \n",
       "max        1.684126e+00  1.769324e+00  123416.990000      1.000000  "
      ]
     },
     "execution_count": 203,
     "metadata": {},
     "output_type": "execute_result"
    }
   ],
   "source": [
    "df.describe()"
   ]
  },
  {
   "cell_type": "code",
   "execution_count": 250,
   "id": "48e392ff",
   "metadata": {},
   "outputs": [
    {
     "data": {
      "text/plain": [
       "<seaborn.axisgrid.JointGrid at 0x252e0dd0f50>"
      ]
     },
     "execution_count": 250,
     "metadata": {},
     "output_type": "execute_result"
    },
    {
     "data": {
      "image/png": "[encoded data removed]",
      "text/plain": [
       "<Figure size 600x600 with 3 Axes>"
      ]
     },
     "metadata": {},
     "output_type": "display_data"
    }
   ],
   "source": [
    "sns.jointplot(x='Previous CTC',y='CTC',data=df,color='red')"
   ]
  },
  {
   "cell_type": "code",
   "execution_count": 249,
   "id": "a08726ba",
   "metadata": {},
   "outputs": [
    {
     "data": {
      "text/plain": [
       "<seaborn.axisgrid.JointGrid at 0x252e101f850>"
      ]
     },
     "execution_count": 249,
     "metadata": {},
     "output_type": "execute_result"
    },
    {
     "data": {
      "image/png": "[encoded data removed]",
      "text/plain": [
       "<Figure size 600x600 with 3 Axes>"
      ]
     },
     "metadata": {},
     "output_type": "display_data"
    }
   ],
   "source": [
    "sns.jointplot(x='Graduation Marks',y='CTC',data=df,color='green')"
   ]
  },
  {
   "cell_type": "code",
   "execution_count": 248,
   "id": "a9f33801",
   "metadata": {},
   "outputs": [
    {
     "data": {
      "text/plain": [
       "<seaborn.axisgrid.JointGrid at 0x252e0dac110>"
      ]
     },
     "execution_count": 248,
     "metadata": {},
     "output_type": "execute_result"
    },
    {
     "data": {
      "image/png": "[encoded data removed]",
      "text/plain": [
       "<Figure size 600x600 with 3 Axes>"
      ]
     },
     "metadata": {},
     "output_type": "display_data"
    }
   ],
   "source": [
    "sns.jointplot(x='EXP (Month)',y='CTC',data=df,color='blue')"
   ]
  },
  {
   "cell_type": "code",
   "execution_count": 207,
   "id": "408cad89",
   "metadata": {
    "scrolled": true
   },
   "outputs": [],
   "source": [
    "Q1 = df[\"Previous CTC\"].quantile(0.25)\n",
    "Q3 = df[\"Previous CTC\"].quantile(0.75)\n",
    "IQR = Q3 - Q1"
   ]
  },
  {
   "cell_type": "code",
   "execution_count": 208,
   "id": "580a4a35",
   "metadata": {},
   "outputs": [],
   "source": [
    "lower_bound = Q1 - 1.5 * IQR\n",
    "upper_bound = Q3 + 1.5 * IQR"
   ]
  },
  {
   "cell_type": "code",
   "execution_count": 210,
   "id": "6b6ab23a",
   "metadata": {},
   "outputs": [],
   "source": [
    "outliers = df[(df['Previous CTC'] < lower_bound) | (df['Previous CTC'] > upper_bound)]"
   ]
  },
  {
   "cell_type": "code",
   "execution_count": 211,
   "id": "daab1aae",
   "metadata": {},
   "outputs": [
    {
     "name": "stdout",
     "output_type": "stream",
     "text": [
      "Outliers in 'Previous CTC' column:\n",
      "      College  City  Previous CTC  Previous job change  Graduation Marks  \\\n",
      "116         3     1      3.365719            -1.360523         -0.660078   \n",
      "860         1     1      3.046170             1.309552          0.210626   \n",
      "1088        3     1      3.200984             1.309552          1.014354   \n",
      "1317        1     0      3.089007            -0.470498         -0.392169   \n",
      "1454        1     1      3.365719            -1.360523         -0.660078   \n",
      "\n",
      "      EXP (Month)        CTC  Role_Manager  \n",
      "116      1.343926   87831.62             0  \n",
      "860     -0.144967  110338.25             1  \n",
      "1088     0.918528   82684.17             0  \n",
      "1317    -1.492061   58309.56             0  \n",
      "1454     1.343926   87831.62             0  \n"
     ]
    }
   ],
   "source": [
    "print(\"Outliers in 'Previous CTC' column:\")\n",
    "print(outliers)"
   ]
  },
  {
   "cell_type": "code",
   "execution_count": 213,
   "id": "0deda278",
   "metadata": {},
   "outputs": [],
   "source": [
    "df['Previous CTC'] = df['Previous CTC'].clip(lower_bound, upper_bound)"
   ]
  },
  {
   "cell_type": "code",
   "execution_count": 215,
   "id": "3093cd5f",
   "metadata": {},
   "outputs": [
    {
     "name": "stdout",
     "output_type": "stream",
     "text": [
      "After outlier treatment:\n",
      "count    1589.000000\n",
      "mean       -0.001136\n",
      "std         0.996832\n",
      "min        -2.784925\n",
      "25%        -0.751595\n",
      "50%        -0.034188\n",
      "75%         0.689984\n",
      "max         2.852351\n",
      "Name: Previous CTC, dtype: float64\n"
     ]
    }
   ],
   "source": [
    "print(\"After outlier treatment:\")\n",
    "print(df['Previous CTC'].describe())"
   ]
  },
  {
   "cell_type": "code",
   "execution_count": 217,
   "id": "5456970a",
   "metadata": {},
   "outputs": [],
   "source": [
    "Q1_Graduation = df['Graduation Marks'].quantile(0.25)\n",
    "Q3_Graduation = df['Graduation Marks'].quantile(0.75)\n",
    "IQR_Graduation = Q3_Graduation - Q1_Graduation"
   ]
  },
  {
   "cell_type": "code",
   "execution_count": 218,
   "id": "b27ad43a",
   "metadata": {},
   "outputs": [],
   "source": [
    "Q1_EXP = df['EXP (Month)'].quantile(0.25)\n",
    "Q3_EXP = df['EXP (Month)'].quantile(0.75)\n",
    "IQR_EXP = Q3_EXP - Q1_EXP\n"
   ]
  },
  {
   "cell_type": "code",
   "execution_count": 219,
   "id": "715d8d28",
   "metadata": {},
   "outputs": [],
   "source": [
    "Q1_CTC = df['CTC'].quantile(0.25)\n",
    "Q3_CTC = df['CTC'].quantile(0.75)\n",
    "IQR_CTC = Q3_CTC - Q1_CTC\n"
   ]
  },
  {
   "cell_type": "code",
   "execution_count": 220,
   "id": "1f75612a",
   "metadata": {},
   "outputs": [],
   "source": [
    "outliers_Graduation = df[(df['Graduation Marks'] < Q1_Graduation - 1.5 * IQR_Graduation) | (df['Graduation Marks'] > Q3_Graduation + 1.5 * IQR_Graduation)]\n",
    "outliers_EXP = df[(df['EXP (Month)'] < Q1_EXP - 1.5 * IQR_EXP) | (df['EXP (Month)'] > Q3_EXP + 1.5 * IQR_EXP)]\n",
    "outliers_CTC = df[(df['CTC'] < Q1_CTC - 1.5 * IQR_CTC) | (df['CTC'] > Q3_CTC + 1.5 * IQR_CTC)]\n"
   ]
  },
  {
   "cell_type": "code",
   "execution_count": 221,
   "id": "484a6aa1",
   "metadata": {},
   "outputs": [],
   "source": [
    "df_no_outliers = df[~df.index.isin(outliers_Graduation.index) & ~df.index.isin(outliers_EXP.index) & ~df.index.isin(outliers_CTC.index)]"
   ]
  },
  {
   "cell_type": "code",
   "execution_count": 251,
   "id": "22994349",
   "metadata": {},
   "outputs": [
    {
     "name": "stdout",
     "output_type": "stream",
     "text": [
      "Number of potential outliers in Graduation Marks: 0\n",
      "Number of potential outliers in EXP (Month): 0\n",
      "Number of potential outliers in CTC: 94\n",
      "New shape of the DataFrame without outliers: (1495, 8)\n"
     ]
    }
   ],
   "source": [
    "# Print the number of potential outliers and the new shape of the DataFrame without outliers\n",
    "print(\"Number of potential outliers in Graduation Marks:\", len(outliers_Graduation))\n",
    "print(\"Number of potential outliers in EXP (Month):\", len(outliers_EXP))\n",
    "print(\"Number of potential outliers in CTC:\", len(outliers_CTC))\n",
    "print(\"New shape of the DataFrame without outliers:\", df_no_outliers.shape)"
   ]
  },
  {
   "cell_type": "code",
   "execution_count": 223,
   "id": "f81ebaa3",
   "metadata": {},
   "outputs": [],
   "source": [
    "# Calculate the IQR for 'CTC'\n",
    "Q1_CTC = df['CTC'].quantile(0.25)\n",
    "Q3_CTC = df['CTC'].quantile(0.75)\n",
    "IQR_CTC = Q3_CTC - Q1_CTC\n"
   ]
  },
  {
   "cell_type": "code",
   "execution_count": 224,
   "id": "3e8e2e92",
   "metadata": {},
   "outputs": [],
   "source": [
    "lower_bound = Q1_CTC - 1.5 * IQR_CTC\n",
    "upper_bound = Q3_CTC + 1.5 * IQR_CTC"
   ]
  },
  {
   "cell_type": "code",
   "execution_count": 225,
   "id": "a9684f3d",
   "metadata": {},
   "outputs": [],
   "source": [
    "df['CTC'] = np.where(df['CTC'] < lower_bound, lower_bound, df['CTC'])\n",
    "df['CTC'] = np.where(df['CTC'] > upper_bound, upper_bound, df['CTC'])"
   ]
  },
  {
   "cell_type": "code",
   "execution_count": 231,
   "id": "e70ade59",
   "metadata": {},
   "outputs": [
    {
     "name": "stdout",
     "output_type": "stream",
     "text": [
      "Number of outliers capped: 0\n"
     ]
    }
   ],
   "source": [
    "num_outliers_capped = len(df[(df['CTC'] < lower_bound) | (df['CTC'] > upper_bound)])\n",
    "print(\"Number of outliers capped:\", num_outliers_capped)"
   ]
  },
  {
   "cell_type": "code",
   "execution_count": 252,
   "id": "6bbe74a2",
   "metadata": {},
   "outputs": [
    {
     "name": "stdout",
     "output_type": "stream",
     "text": [
      "Number of potential outliers in Graduation Marks: 0\n",
      "Number of potential outliers in EXP (Month): 0\n",
      "Number of potential outliers in CTC: 0\n",
      "New shape of the DataFrame without outliers: (1589, 8)\n"
     ]
    }
   ],
   "source": [
    "print(\"Number of potential outliers in Graduation Marks:\", len(outliers_Graduation))\n",
    "print(\"Number of potential outliers in EXP (Month):\", len(outliers_EXP))\n",
    "print(\"Number of potential outliers in CTC:\", num_outliers_capped)\n",
    "print(\"New shape of the DataFrame without outliers:\", df.shape)"
   ]
  },
  {
   "cell_type": "code",
   "execution_count": 273,
   "id": "7b28190e",
   "metadata": {},
   "outputs": [],
   "source": [
    "#  Split the data into features (X) and target (y)\n",
    "X = df.drop('CTC', axis=1)\n",
    "y = df['CTC']"
   ]
  },
  {
   "cell_type": "code",
   "execution_count": null,
   "id": "99b2109e",
   "metadata": {},
   "outputs": [],
   "source": []
  },
  {
   "cell_type": "code",
   "execution_count": 254,
   "id": "b5c2002c",
   "metadata": {},
   "outputs": [
    {
     "data": {
      "text/html": [
       "<div>\n",
       "<style scoped>\n",
       "    .dataframe tbody tr th:only-of-type {\n",
       "        vertical-align: middle;\n",
       "    }\n",
       "\n",
       "    .dataframe tbody tr th {\n",
       "        vertical-align: top;\n",
       "    }\n",
       "\n",
       "    .dataframe thead th {\n",
       "        text-align: right;\n",
       "    }\n",
       "</style>\n",
       "<table border=\"1\" class=\"dataframe\">\n",
       "  <thead>\n",
       "    <tr style=\"text-align: right;\">\n",
       "      <th></th>\n",
       "      <th>College</th>\n",
       "      <th>City</th>\n",
       "      <th>Previous CTC</th>\n",
       "      <th>Previous job change</th>\n",
       "      <th>Graduation Marks</th>\n",
       "      <th>EXP (Month)</th>\n",
       "      <th>Role_Manager</th>\n",
       "    </tr>\n",
       "  </thead>\n",
       "  <tbody>\n",
       "    <tr>\n",
       "      <th>0</th>\n",
       "      <td>2</td>\n",
       "      <td>0</td>\n",
       "      <td>0.000683</td>\n",
       "      <td>0.419527</td>\n",
       "      <td>0.411558</td>\n",
       "      <td>-1.421162</td>\n",
       "      <td>1</td>\n",
       "    </tr>\n",
       "    <tr>\n",
       "      <th>1</th>\n",
       "      <td>2</td>\n",
       "      <td>0</td>\n",
       "      <td>0.234859</td>\n",
       "      <td>-1.360523</td>\n",
       "      <td>1.617149</td>\n",
       "      <td>-1.492061</td>\n",
       "      <td>0</td>\n",
       "    </tr>\n",
       "    <tr>\n",
       "      <th>2</th>\n",
       "      <td>3</td>\n",
       "      <td>0</td>\n",
       "      <td>0.725756</td>\n",
       "      <td>-0.470498</td>\n",
       "      <td>-0.526124</td>\n",
       "      <td>-0.783065</td>\n",
       "      <td>0</td>\n",
       "    </tr>\n",
       "    <tr>\n",
       "      <th>3</th>\n",
       "      <td>3</td>\n",
       "      <td>0</td>\n",
       "      <td>-0.978255</td>\n",
       "      <td>-0.470498</td>\n",
       "      <td>1.416217</td>\n",
       "      <td>-0.428566</td>\n",
       "      <td>0</td>\n",
       "    </tr>\n",
       "    <tr>\n",
       "      <th>4</th>\n",
       "      <td>1</td>\n",
       "      <td>0</td>\n",
       "      <td>0.354803</td>\n",
       "      <td>1.309552</td>\n",
       "      <td>0.947376</td>\n",
       "      <td>-0.499466</td>\n",
       "      <td>0</td>\n",
       "    </tr>\n",
       "  </tbody>\n",
       "</table>\n",
       "</div>"
      ],
      "text/plain": [
       "   College  City  Previous CTC  Previous job change  Graduation Marks  \\\n",
       "0        2     0      0.000683             0.419527          0.411558   \n",
       "1        2     0      0.234859            -1.360523          1.617149   \n",
       "2        3     0      0.725756            -0.470498         -0.526124   \n",
       "3        3     0     -0.978255            -0.470498          1.416217   \n",
       "4        1     0      0.354803             1.309552          0.947376   \n",
       "\n",
       "   EXP (Month)  Role_Manager  \n",
       "0    -1.421162             1  \n",
       "1    -1.492061             0  \n",
       "2    -0.783065             0  \n",
       "3    -0.428566             0  \n",
       "4    -0.499466             0  "
      ]
     },
     "execution_count": 254,
     "metadata": {},
     "output_type": "execute_result"
    }
   ],
   "source": [
    "X.head()"
   ]
  },
  {
   "cell_type": "code",
   "execution_count": 255,
   "id": "c21c82eb",
   "metadata": {},
   "outputs": [
    {
     "data": {
      "text/plain": [
       "0    71406.58\n",
       "1    68005.87\n",
       "2    76764.02\n",
       "3    82092.39\n",
       "4    73878.10\n",
       "Name: CTC, dtype: float64"
      ]
     },
     "execution_count": 255,
     "metadata": {},
     "output_type": "execute_result"
    }
   ],
   "source": [
    "y.head()"
   ]
  },
  {
   "cell_type": "code",
   "execution_count": 274,
   "id": "335bcc7d",
   "metadata": {},
   "outputs": [],
   "source": [
    "# Split data into training and testing sets\n",
    "X_train, X_test, y_train, y_test = train_test_split(X, y, test_size=0.2, random_state=42)"
   ]
  },
  {
   "cell_type": "code",
   "execution_count": 275,
   "id": "cade6e52",
   "metadata": {},
   "outputs": [
    {
     "data": {
      "text/html": [
       "<style>#sk-container-id-12 {color: black;background-color: white;}#sk-container-id-12 pre{padding: 0;}#sk-container-id-12 div.sk-toggleable {background-color: white;}#sk-container-id-12 label.sk-toggleable__label {cursor: pointer;display: block;width: 100%;margin-bottom: 0;padding: 0.3em;box-sizing: border-box;text-align: center;}#sk-container-id-12 label.sk-toggleable__label-arrow:before {content: \"▸\";float: left;margin-right: 0.25em;color: #696969;}#sk-container-id-12 label.sk-toggleable__label-arrow:hover:before {color: black;}#sk-container-id-12 div.sk-estimator:hover label.sk-toggleable__label-arrow:before {color: black;}#sk-container-id-12 div.sk-toggleable__content {max-height: 0;max-width: 0;overflow: hidden;text-align: left;background-color: #f0f8ff;}#sk-container-id-12 div.sk-toggleable__content pre {margin: 0.2em;color: black;border-radius: 0.25em;background-color: #f0f8ff;}#sk-container-id-12 input.sk-toggleable__control:checked~div.sk-toggleable__content {max-height: 200px;max-width: 100%;overflow: auto;}#sk-container-id-12 input.sk-toggleable__control:checked~label.sk-toggleable__label-arrow:before {content: \"▾\";}#sk-container-id-12 div.sk-estimator input.sk-toggleable__control:checked~label.sk-toggleable__label {background-color: #d4ebff;}#sk-container-id-12 div.sk-label input.sk-toggleable__control:checked~label.sk-toggleable__label {background-color: #d4ebff;}#sk-container-id-12 input.sk-hidden--visually {border: 0;clip: rect(1px 1px 1px 1px);clip: rect(1px, 1px, 1px, 1px);height: 1px;margin: -1px;overflow: hidden;padding: 0;position: absolute;width: 1px;}#sk-container-id-12 div.sk-estimator {font-family: monospace;background-color: #f0f8ff;border: 1px dotted black;border-radius: 0.25em;box-sizing: border-box;margin-bottom: 0.5em;}#sk-container-id-12 div.sk-estimator:hover {background-color: #d4ebff;}#sk-container-id-12 div.sk-parallel-item::after {content: \"\";width: 100%;border-bottom: 1px solid gray;flex-grow: 1;}#sk-container-id-12 div.sk-label:hover label.sk-toggleable__label {background-color: #d4ebff;}#sk-container-id-12 div.sk-serial::before {content: \"\";position: absolute;border-left: 1px solid gray;box-sizing: border-box;top: 0;bottom: 0;left: 50%;z-index: 0;}#sk-container-id-12 div.sk-serial {display: flex;flex-direction: column;align-items: center;background-color: white;padding-right: 0.2em;padding-left: 0.2em;position: relative;}#sk-container-id-12 div.sk-item {position: relative;z-index: 1;}#sk-container-id-12 div.sk-parallel {display: flex;align-items: stretch;justify-content: center;background-color: white;position: relative;}#sk-container-id-12 div.sk-item::before, #sk-container-id-12 div.sk-parallel-item::before {content: \"\";position: absolute;border-left: 1px solid gray;box-sizing: border-box;top: 0;bottom: 0;left: 50%;z-index: -1;}#sk-container-id-12 div.sk-parallel-item {display: flex;flex-direction: column;z-index: 1;position: relative;background-color: white;}#sk-container-id-12 div.sk-parallel-item:first-child::after {align-self: flex-end;width: 50%;}#sk-container-id-12 div.sk-parallel-item:last-child::after {align-self: flex-start;width: 50%;}#sk-container-id-12 div.sk-parallel-item:only-child::after {width: 0;}#sk-container-id-12 div.sk-dashed-wrapped {border: 1px dashed gray;margin: 0 0.4em 0.5em 0.4em;box-sizing: border-box;padding-bottom: 0.4em;background-color: white;}#sk-container-id-12 div.sk-label label {font-family: monospace;font-weight: bold;display: inline-block;line-height: 1.2em;}#sk-container-id-12 div.sk-label-container {text-align: center;}#sk-container-id-12 div.sk-container {/* jupyter's `normalize.less` sets `[hidden] { display: none; }` but bootstrap.min.css set `[hidden] { display: none !important; }` so we also need the `!important` here to be able to override the default hidden behavior on the sphinx rendered scikit-learn.org. See: https://github.com/scikit-learn/scikit-learn/issues/21755 */display: inline-block !important;position: relative;}#sk-container-id-12 div.sk-text-repr-fallback {display: none;}</style><div id=\"sk-container-id-12\" class=\"sk-top-container\"><div class=\"sk-text-repr-fallback\"><pre>LinearRegression()</pre><b>In a Jupyter environment, please rerun this cell to show the HTML representation or trust the notebook. <br />On GitHub, the HTML representation is unable to render, please try loading this page with nbviewer.org.</b></div><div class=\"sk-container\" hidden><div class=\"sk-item\"><div class=\"sk-estimator sk-toggleable\"><input class=\"sk-toggleable__control sk-hidden--visually\" id=\"sk-estimator-id-12\" type=\"checkbox\" checked><label for=\"sk-estimator-id-12\" class=\"sk-toggleable__label sk-toggleable__label-arrow\">LinearRegression</label><div class=\"sk-toggleable__content\"><pre>LinearRegression()</pre></div></div></div></div></div>"
      ],
      "text/plain": [
       "LinearRegression()"
      ]
     },
     "execution_count": 275,
     "metadata": {},
     "output_type": "execute_result"
    }
   ],
   "source": [
    "# Step 4: Model Selection and Step 5: Model Training\n",
    "lm = LinearRegression()\n",
    "lm.fit(X_train, y_train)"
   ]
  },
  {
   "cell_type": "code",
   "execution_count": 276,
   "id": "b616968d",
   "metadata": {},
   "outputs": [],
   "source": [
    "# Step 6: Model Evaluation\n",
    "y_pred_test = lm.predict(X_test)\n",
    "y_pred_train = lm.predict(X_train)"
   ]
  },
  {
   "cell_type": "code",
   "execution_count": 277,
   "id": "90648e97",
   "metadata": {},
   "outputs": [],
   "source": [
    "# Calculate metrics\n",
    "mse_test= mean_squared_error(y_test, y_pred_test)\n",
    "mse_train = mean_squared_error(y_train,y_pred_train)\n",
    "rmse_test = np.sqrt(mse_test)\n",
    "rmse_train = np.sqrt(mse_train)\n",
    "r2_test = r2_score(y_test, y_pred_test)\n",
    "r2_train = r2_score(y_train,y_pred_train)"
   ]
  },
  {
   "cell_type": "code",
   "execution_count": 278,
   "id": "72ccd5b1",
   "metadata": {},
   "outputs": [
    {
     "name": "stdout",
     "output_type": "stream",
     "text": [
      "Mean Squared Error: 66013643.89960201 63184933.08760053\n",
      "Root Mean Squared Error: 8124.878085214695 7948.895085960094\n",
      "R-squared: 0.5790435058024451 0.5026557995488168\n"
     ]
    }
   ],
   "source": [
    "print(\"Mean Squared Error:\", mse_test,mse_train)\n",
    "print(\"Root Mean Squared Error:\", rmse_test,rmse_train)\n",
    "print(\"R-squared:\", r2_test,r2_train)"
   ]
  },
  {
   "cell_type": "code",
   "execution_count": 286,
   "id": "46a7c5ea",
   "metadata": {},
   "outputs": [],
   "source": [
    "#Model predictions\n",
    "new_data = pd.DataFrame({\n",
    "    'College':[3,3],\n",
    "    'City':[1,0],\n",
    "    'Previous CTC': [25000, 500000],\n",
    "    'Previous job change': [1, 0],\n",
    "    'Graduation Marks': [75, 80],\n",
    "    'EXP (Month)': [2, 4], \n",
    "    'Role_Manager':[0,1]\n",
    "})"
   ]
  },
  {
   "cell_type": "code",
   "execution_count": 290,
   "id": "776cbb26",
   "metadata": {},
   "outputs": [],
   "source": [
    " new_data_scaled = scaler.fit_transform(new_data)\n"
   ]
  },
  {
   "cell_type": "code",
   "execution_count": null,
   "id": "3f64e6e3",
   "metadata": {},
   "outputs": [],
   "source": []
  },
  {
   "cell_type": "code",
   "execution_count": 292,
   "id": "b94ccb1a",
   "metadata": {},
   "outputs": [
    {
     "name": "stderr",
     "output_type": "stream",
     "text": [
      "C:\\ProgramData\\anaconda3\\Lib\\site-packages\\sklearn\\base.py:432: UserWarning: X has feature names, but RandomForestRegressor was fitted without feature names\n",
      "  warnings.warn(\n"
     ]
    }
   ],
   "source": [
    "predictions = rf_model.predict(new_data)\n"
   ]
  },
  {
   "cell_type": "code",
   "execution_count": 293,
   "id": "9c32903b",
   "metadata": {},
   "outputs": [
    {
     "name": "stdout",
     "output_type": "stream",
     "text": [
      "[80046.43039 99494.84159]\n"
     ]
    }
   ],
   "source": [
    "print(predictions)"
   ]
  },
  {
   "cell_type": "code",
   "execution_count": 261,
   "id": "0b57e8dc",
   "metadata": {},
   "outputs": [],
   "source": [
    "from sklearn.model_selection import train_test_split\n",
    "from sklearn.ensemble import RandomForestRegressor\n",
    "from sklearn.metrics import r2_score"
   ]
  },
  {
   "cell_type": "code",
   "execution_count": 282,
   "id": "43b48e50",
   "metadata": {},
   "outputs": [],
   "source": [
    "# Feature scaling\n",
    "scaler = StandardScaler()\n",
    "X_train_scaled = scaler.fit_transform(X_train)\n",
    "X_test_scaled = scaler.transform(X_test)"
   ]
  },
  {
   "cell_type": "code",
   "execution_count": 283,
   "id": "867a0e0b",
   "metadata": {},
   "outputs": [
    {
     "data": {
      "text/html": [
       "<style>#sk-container-id-14 {color: black;background-color: white;}#sk-container-id-14 pre{padding: 0;}#sk-container-id-14 div.sk-toggleable {background-color: white;}#sk-container-id-14 label.sk-toggleable__label {cursor: pointer;display: block;width: 100%;margin-bottom: 0;padding: 0.3em;box-sizing: border-box;text-align: center;}#sk-container-id-14 label.sk-toggleable__label-arrow:before {content: \"▸\";float: left;margin-right: 0.25em;color: #696969;}#sk-container-id-14 label.sk-toggleable__label-arrow:hover:before {color: black;}#sk-container-id-14 div.sk-estimator:hover label.sk-toggleable__label-arrow:before {color: black;}#sk-container-id-14 div.sk-toggleable__content {max-height: 0;max-width: 0;overflow: hidden;text-align: left;background-color: #f0f8ff;}#sk-container-id-14 div.sk-toggleable__content pre {margin: 0.2em;color: black;border-radius: 0.25em;background-color: #f0f8ff;}#sk-container-id-14 input.sk-toggleable__control:checked~div.sk-toggleable__content {max-height: 200px;max-width: 100%;overflow: auto;}#sk-container-id-14 input.sk-toggleable__control:checked~label.sk-toggleable__label-arrow:before {content: \"▾\";}#sk-container-id-14 div.sk-estimator input.sk-toggleable__control:checked~label.sk-toggleable__label {background-color: #d4ebff;}#sk-container-id-14 div.sk-label input.sk-toggleable__control:checked~label.sk-toggleable__label {background-color: #d4ebff;}#sk-container-id-14 input.sk-hidden--visually {border: 0;clip: rect(1px 1px 1px 1px);clip: rect(1px, 1px, 1px, 1px);height: 1px;margin: -1px;overflow: hidden;padding: 0;position: absolute;width: 1px;}#sk-container-id-14 div.sk-estimator {font-family: monospace;background-color: #f0f8ff;border: 1px dotted black;border-radius: 0.25em;box-sizing: border-box;margin-bottom: 0.5em;}#sk-container-id-14 div.sk-estimator:hover {background-color: #d4ebff;}#sk-container-id-14 div.sk-parallel-item::after {content: \"\";width: 100%;border-bottom: 1px solid gray;flex-grow: 1;}#sk-container-id-14 div.sk-label:hover label.sk-toggleable__label {background-color: #d4ebff;}#sk-container-id-14 div.sk-serial::before {content: \"\";position: absolute;border-left: 1px solid gray;box-sizing: border-box;top: 0;bottom: 0;left: 50%;z-index: 0;}#sk-container-id-14 div.sk-serial {display: flex;flex-direction: column;align-items: center;background-color: white;padding-right: 0.2em;padding-left: 0.2em;position: relative;}#sk-container-id-14 div.sk-item {position: relative;z-index: 1;}#sk-container-id-14 div.sk-parallel {display: flex;align-items: stretch;justify-content: center;background-color: white;position: relative;}#sk-container-id-14 div.sk-item::before, #sk-container-id-14 div.sk-parallel-item::before {content: \"\";position: absolute;border-left: 1px solid gray;box-sizing: border-box;top: 0;bottom: 0;left: 50%;z-index: -1;}#sk-container-id-14 div.sk-parallel-item {display: flex;flex-direction: column;z-index: 1;position: relative;background-color: white;}#sk-container-id-14 div.sk-parallel-item:first-child::after {align-self: flex-end;width: 50%;}#sk-container-id-14 div.sk-parallel-item:last-child::after {align-self: flex-start;width: 50%;}#sk-container-id-14 div.sk-parallel-item:only-child::after {width: 0;}#sk-container-id-14 div.sk-dashed-wrapped {border: 1px dashed gray;margin: 0 0.4em 0.5em 0.4em;box-sizing: border-box;padding-bottom: 0.4em;background-color: white;}#sk-container-id-14 div.sk-label label {font-family: monospace;font-weight: bold;display: inline-block;line-height: 1.2em;}#sk-container-id-14 div.sk-label-container {text-align: center;}#sk-container-id-14 div.sk-container {/* jupyter's `normalize.less` sets `[hidden] { display: none; }` but bootstrap.min.css set `[hidden] { display: none !important; }` so we also need the `!important` here to be able to override the default hidden behavior on the sphinx rendered scikit-learn.org. See: https://github.com/scikit-learn/scikit-learn/issues/21755 */display: inline-block !important;position: relative;}#sk-container-id-14 div.sk-text-repr-fallback {display: none;}</style><div id=\"sk-container-id-14\" class=\"sk-top-container\"><div class=\"sk-text-repr-fallback\"><pre>RandomForestRegressor(n_estimators=1000, random_state=42)</pre><b>In a Jupyter environment, please rerun this cell to show the HTML representation or trust the notebook. <br />On GitHub, the HTML representation is unable to render, please try loading this page with nbviewer.org.</b></div><div class=\"sk-container\" hidden><div class=\"sk-item\"><div class=\"sk-estimator sk-toggleable\"><input class=\"sk-toggleable__control sk-hidden--visually\" id=\"sk-estimator-id-14\" type=\"checkbox\" checked><label for=\"sk-estimator-id-14\" class=\"sk-toggleable__label sk-toggleable__label-arrow\">RandomForestRegressor</label><div class=\"sk-toggleable__content\"><pre>RandomForestRegressor(n_estimators=1000, random_state=42)</pre></div></div></div></div></div>"
      ],
      "text/plain": [
       "RandomForestRegressor(n_estimators=1000, random_state=42)"
      ]
     },
     "execution_count": 283,
     "metadata": {},
     "output_type": "execute_result"
    }
   ],
   "source": [
    "# Create and train the Random Forest Regression model\n",
    "rf_model = RandomForestRegressor(n_estimators=1000, random_state=42)\n",
    "rf_model.fit(X_train_scaled, y_train)"
   ]
  },
  {
   "cell_type": "code",
   "execution_count": 284,
   "id": "b1d0fa68",
   "metadata": {},
   "outputs": [],
   "source": [
    "# Make predictions on the testing data\n",
    "y_pred_rf = rf_model.predict(X_test_scaled)\n",
    "y_pred_train = rf_model.predict(X_train_scaled)"
   ]
  },
  {
   "cell_type": "code",
   "execution_count": 285,
   "id": "7b64247b",
   "metadata": {},
   "outputs": [
    {
     "name": "stdout",
     "output_type": "stream",
     "text": [
      "R-squared score for Random Forest Regression: 0.6292452755450832 0.9463873205904787\n"
     ]
    }
   ],
   "source": [
    "# Calculate the R-squared score for the Random Forest model\n",
    "r2_rf = r2_score(y_test, y_pred_rf)\n",
    "r2_rf1 = r2_score(y_train,y_pred_train)\n",
    "print(\"R-squared score for Random Forest Regression:\", r2_rf,r2_rf1)"
   ]
  },
  {
   "cell_type": "code",
   "execution_count": 163,
   "id": "4f16de93",
   "metadata": {},
   "outputs": [],
   "source": [
    "data = {'Name': ['John', 'Alice', 'Bob'],\n",
    "        'Age': [25, 30, 22],\n",
    "        'City': ['New York', 'London', 'Paris']}\n"
   ]
  },
  {
   "cell_type": "code",
   "execution_count": 170,
   "id": "9f82343f",
   "metadata": {},
   "outputs": [],
   "source": [
    "df = pd.DataFrame(data)"
   ]
  },
  {
   "cell_type": "code",
   "execution_count": 171,
   "id": "a1b1029f",
   "metadata": {},
   "outputs": [
    {
     "data": {
      "text/html": [
       "<div>\n",
       "<style scoped>\n",
       "    .dataframe tbody tr th:only-of-type {\n",
       "        vertical-align: middle;\n",
       "    }\n",
       "\n",
       "    .dataframe tbody tr th {\n",
       "        vertical-align: top;\n",
       "    }\n",
       "\n",
       "    .dataframe thead th {\n",
       "        text-align: right;\n",
       "    }\n",
       "</style>\n",
       "<table border=\"1\" class=\"dataframe\">\n",
       "  <thead>\n",
       "    <tr style=\"text-align: right;\">\n",
       "      <th></th>\n",
       "      <th>Name</th>\n",
       "      <th>Age</th>\n",
       "      <th>City</th>\n",
       "    </tr>\n",
       "  </thead>\n",
       "  <tbody>\n",
       "    <tr>\n",
       "      <th>0</th>\n",
       "      <td>John</td>\n",
       "      <td>25</td>\n",
       "      <td>New York</td>\n",
       "    </tr>\n",
       "    <tr>\n",
       "      <th>1</th>\n",
       "      <td>Alice</td>\n",
       "      <td>30</td>\n",
       "      <td>London</td>\n",
       "    </tr>\n",
       "    <tr>\n",
       "      <th>2</th>\n",
       "      <td>Bob</td>\n",
       "      <td>22</td>\n",
       "      <td>Paris</td>\n",
       "    </tr>\n",
       "  </tbody>\n",
       "</table>\n",
       "</div>"
      ],
      "text/plain": [
       "    Name  Age      City\n",
       "0   John   25  New York\n",
       "1  Alice   30    London\n",
       "2    Bob   22     Paris"
      ]
     },
     "execution_count": 171,
     "metadata": {},
     "output_type": "execute_result"
    }
   ],
   "source": [
    "df.head()"
   ]
  },
  {
   "cell_type": "code",
   "execution_count": 172,
   "id": "36fabc11",
   "metadata": {},
   "outputs": [
    {
     "name": "stdout",
     "output_type": "stream",
     "text": [
      "Alice\n"
     ]
    }
   ],
   "source": [
    "print(df.iloc[, 1])  # Output: Alice"
   ]
  },
  {
   "cell_type": "code",
   "execution_count": 297,
   "id": "e5b85b64",
   "metadata": {},
   "outputs": [],
   "source": [
    "x = \"Hello\"[0]"
   ]
  },
  {
   "cell_type": "code",
   "execution_count": 298,
   "id": "70cb0b62",
   "metadata": {},
   "outputs": [],
   "source": [
    "df = np.array([1, 2, 3, 4, 5, 6, 7])"
   ]
  },
  {
   "cell_type": "code",
   "execution_count": 301,
   "id": "e76b3649",
   "metadata": {},
   "outputs": [
    {
     "name": "stdout",
     "output_type": "stream",
     "text": [
      "[4 5 6 7]\n"
     ]
    }
   ],
   "source": [
    "print(df[3:])"
   ]
  },
  {
   "cell_type": "code",
   "execution_count": 303,
   "id": "ed2206dc",
   "metadata": {},
   "outputs": [
    {
     "name": "stdout",
     "output_type": "stream",
     "text": [
      "Yna\n"
     ]
    }
   ],
   "source": [
    "str1 = \"DYnative\"\n",
    "print(str1[1:4])"
   ]
  }
 ],
 "metadata": {
  "kernelspec": {
   "display_name": "Python 3 (ipykernel)",
   "language": "python",
   "name": "python3"
  },
  "language_info": {
   "codemirror_mode": {
    "name": "ipython",
    "version": 3
   },
   "file_extension": ".py",
   "mimetype": "text/x-python",
   "name": "python",
   "nbconvert_exporter": "python",
   "pygments_lexer": "ipython3",
   "version": "3.11.3"
  }
 },
 "nbformat": 4,
 "nbformat_minor": 5
}
